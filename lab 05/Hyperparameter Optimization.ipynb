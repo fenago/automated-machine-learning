{
 "cells": [
  {
   "cell_type": "markdown",
   "metadata": {},
   "source": [
    "## Hyperparameters"
   ]
  },
  {
   "cell_type": "code",
   "execution_count": null,
   "metadata": {},
   "outputs": [],
   "source": [
    "import numpy as np\n",
    "import warnings\n",
    "warnings.simplefilter(action='ignore', category=Warning)\n",
    "\n",
    "def branin(x):\n",
    "\n",
    "    # Branin function has 2 dimensions and it has 3 global mimima\n",
    "    x1 = x[0]\n",
    "    x2 = x[1]\n",
    "\n",
    "    # Global minimum is f(x*)=0.397887 at points (-pi, 12.275), (pi,2.275) and (9.42478, 2.475)\n",
    "\n",
    "    # Recommended values of a, b, c, r, s and t for Branin function\n",
    "    a = 1\n",
    "    b = 5.1 / (4 * np.pi**2)\n",
    "    c = 5. / np.pi\n",
    "    r = 6.\n",
    "    s = 10.\n",
    "    t = 1 / (8 * np.pi)\n",
    "\n",
    "    # Calculating separate parts of the function first for verbosity\n",
    "    p1 = a * (x2 - (b * x1**2) + (c * x1) - r)**2\n",
    "    p2 = s * (1-t) * np.cos(x1)\n",
    "    p3 = s\n",
    "\n",
    "    # Calculating result\n",
    "    ret = p1 + p2 + p3\n",
    "\n",
    "    return ret\n",
    "\n",
    "# minimize function from scipy.optimize will minimize a scalar function with one or more variables\n",
    "from scipy.optimize import minimize\n",
    "\n",
    "x = [5.6, 3.2]\n",
    "\n",
    "res = minimize(branin, x)\n",
    "\n",
    "print(res)"
   ]
  },
  {
   "cell_type": "code",
   "execution_count": null,
   "metadata": {},
   "outputs": [],
   "source": [
    "from sklearn.linear_model import LogisticRegression\n",
    "\n",
    "log_reg = LogisticRegression()\n",
    "log_reg.get_params()"
   ]
  },
  {
   "cell_type": "markdown",
   "metadata": {},
   "source": [
    "### GridSearchCV"
   ]
  },
  {
   "cell_type": "code",
   "execution_count": null,
   "metadata": {},
   "outputs": [],
   "source": [
    "from sklearn.linear_model import LogisticRegression\n",
    "\n",
    "log_reg = LogisticRegression()\n",
    "\n",
    "# Hyperparameters\n",
    "param_grid = {'C': [0.001, 0.01, 0.1, 1, 10, 20, 50, 100],\n",
    "                'penalty': ['l1', 'l2']}\n",
    "\n",
    "from sklearn.model_selection import GridSearchCV\n",
    "\n",
    "n_folds = 5\n",
    "estimator = GridSearchCV(log_reg,param_grid, cv=n_folds)\n",
    "\n",
    "from sklearn import datasets\n",
    "iris = datasets.load_iris()\n",
    "X = iris.data\n",
    "Y = iris.target\n",
    "\n",
    "estimator.fit(X, Y)"
   ]
  },
  {
   "cell_type": "code",
   "execution_count": null,
   "metadata": {},
   "outputs": [],
   "source": [
    "estimator.best_estimator_"
   ]
  },
  {
   "cell_type": "code",
   "execution_count": null,
   "metadata": {},
   "outputs": [],
   "source": [
    "estimator.best_score_"
   ]
  },
  {
   "cell_type": "code",
   "execution_count": null,
   "metadata": {},
   "outputs": [],
   "source": [
    "estimator.cv_results_"
   ]
  },
  {
   "cell_type": "code",
   "execution_count": null,
   "metadata": {},
   "outputs": [],
   "source": [
    "### RandomizedSearchCV"
   ]
  },
  {
   "cell_type": "code",
   "execution_count": null,
   "metadata": {},
   "outputs": [],
   "source": [
    "from sklearn.model_selection import RandomizedSearchCV\n",
    "from scipy.stats import randint as sp_randint\n",
    "\n",
    "# Hyperparameters\n",
    "param_grid = {'C': sp_randint(1, 100),\n",
    "                'penalty': ['l1', 'l2']}\n",
    "\n",
    "n_iter_search = 20\n",
    "n_folds = 5\n",
    "estimator = RandomizedSearchCV(log_reg, param_distributions=param_grid, n_iter=n_iter_search, cv=n_folds)\n",
    "\n",
    "estimator.fit(X, Y)"
   ]
  },
  {
   "cell_type": "code",
   "execution_count": null,
   "metadata": {},
   "outputs": [],
   "source": [
    "estimator.best_estimator_"
   ]
  },
  {
   "cell_type": "code",
   "execution_count": null,
   "metadata": {},
   "outputs": [],
   "source": [
    "estimator.best_score_"
   ]
  },
  {
   "cell_type": "code",
   "execution_count": null,
   "metadata": {},
   "outputs": [],
   "source": [
    "estimator.cv_results_"
   ]
  },
  {
   "cell_type": "markdown",
   "metadata": {},
   "source": [
    "### Results in pandas"
   ]
  },
  {
   "cell_type": "code",
   "execution_count": null,
   "metadata": {},
   "outputs": [],
   "source": [
    "import pandas as pd\n",
    "\n",
    "df = pd.DataFrame(estimator.cv_results_)\n",
    "\n",
    "df.head()"
   ]
  },
  {
   "cell_type": "code",
   "execution_count": null,
   "metadata": {},
   "outputs": [],
   "source": [
    "df[df['mean_test_score'] == df['mean_test_score'].max()]"
   ]
  },
  {
   "cell_type": "markdown",
   "metadata": {},
   "source": [
    "### Warm-start"
   ]
  },
  {
   "cell_type": "code",
   "execution_count": null,
   "metadata": {},
   "outputs": [],
   "source": [
    "from sklearn.linear_model import LogisticRegression\n",
    "\n",
    "log_reg = LogisticRegression(C=10, tol=0.00001)\n",
    "\n",
    "from sklearn import datasets\n",
    "iris = datasets.load_iris()\n",
    "X = iris.data\n",
    "Y = iris.target\n",
    "\n",
    "from time import time\n",
    "start = time()\n",
    "log_reg.fit(X, Y)\n",
    "end = time()\n",
    "print(\"Time: {}\".format(end - start))\n",
    "# Time: 0.0009272098541259766\n",
    "\n",
    "log_reg.set_params(C=20)\n",
    "# LogisticRegression(C=100, class_weight=None, dual=False, fit_intercept=True,\n",
    "# intercept_scaling=1, max_iter=100, multi_class='ovr', n_jobs=1,\n",
    "# penalty='l2', random_state=None, solver='liblinear', tol=0.0001,\n",
    "# verbose=0, warm_start=False)\n",
    "\n",
    "start = time()\n",
    "log_reg.fit(X, Y)\n",
    "end = time()\n",
    "print(\"Time: {}\".format(end - start))\n",
    "# Time: 0.0012941360473632812"
   ]
  },
  {
   "cell_type": "code",
   "execution_count": null,
   "metadata": {},
   "outputs": [],
   "source": [
    "log_reg = LogisticRegression(C=10, solver='sag', warm_start=True, max_iter=10000)\n",
    "\n",
    "start = time()\n",
    "log_reg.fit(X, Y)\n",
    "end = time()\n",
    "print(\"Time: {}\".format(end - start))\n",
    "# Time: 0.043714046478271484\n",
    "\n",
    "log_reg.set_params(C=20)\n",
    "\n",
    "start = time()\n",
    "log_reg.fit(X, Y)\n",
    "end = time()\n",
    "print(\"Time: {}\".format(end - start))\n",
    "# Time: 0.020781755447387695"
   ]
  },
  {
   "cell_type": "markdown",
   "metadata": {},
   "source": [
    "## Bayesian-based hyperparameter tuning"
   ]
  },
  {
   "cell_type": "code",
   "execution_count": null,
   "metadata": {},
   "outputs": [],
   "source": [
    "from smac.facade.func_facade import fmin_smac\n",
    "\n",
    "x, cost, _ = fmin_smac(func=branin, # function\n",
    "                           x0=[3.2, 4.5], # default configuration\n",
    "                           bounds=[(-5, 10), (0, 15)], # limits\n",
    "                           maxfun=500, # maximum number of evaluations\n",
    "                           rng=3) # random seed\n",
    "\n",
    "\n",
    "print(x, cost)\n",
    "# [3.07419145 2.39022223] 0.4235428462537083"
   ]
  },
  {
   "cell_type": "code",
   "execution_count": null,
   "metadata": {},
   "outputs": [],
   "source": []
  }
 ],
 "metadata": {
  "kernelspec": {
   "display_name": "Python 3",
   "language": "python",
   "name": "python3"
  },
  "language_info": {
   "codemirror_mode": {
    "name": "ipython",
    "version": 3
   },
   "file_extension": ".py",
   "mimetype": "text/x-python",
   "name": "python",
   "nbconvert_exporter": "python",
   "pygments_lexer": "ipython3",
   "version": "3.8.6"
  }
 },
 "nbformat": 4,
 "nbformat_minor": 2
}
