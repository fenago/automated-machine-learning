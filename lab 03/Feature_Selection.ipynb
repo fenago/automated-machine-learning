{
 "cells": [
  {
   "cell_type": "code",
   "execution_count": null,
   "metadata": {},
   "outputs": [],
   "source": [
    "%matplotlib inline\n",
    "\n",
    "import pandas as pd\n",
    "import numpy as np\n",
    "\n",
    "hr_data = pd.read_csv('data/hr.csv', header=0)\n",
    "hr_data.head()\n",
    "hr_data = hr_data.dropna()\n",
    "data_trnsf = pd.get_dummies(hr_data, columns =['salary', 'sales'])\n",
    "data_trnsf.columns"
   ]
  },
  {
   "cell_type": "code",
   "execution_count": null,
   "metadata": {},
   "outputs": [],
   "source": [
    "X= data_trnsf.drop('left', axis=1)\n",
    "X.columns\n",
    "Y = data_trnsf.left# feature extraction"
   ]
  },
  {
   "cell_type": "code",
   "execution_count": null,
   "metadata": {},
   "outputs": [],
   "source": [
    "#Variance Threshold\n",
    "\n",
    "from sklearn.feature_selection import VarianceThreshold\n",
    "# Set threshold to 0.1\n",
    "select_features = VarianceThreshold(threshold = 0.2)\n",
    "select_features.fit_transform(X)\n",
    "\n",
    "# Subset features\n",
    "X_subset = select_features.transform(X)\n",
    "\n",
    "print('Number of features:', X.shape[1])\n",
    "print('Reduced number of features:',X_subset.shape[1])\n"
   ]
  },
  {
   "cell_type": "code",
   "execution_count": null,
   "metadata": {},
   "outputs": [],
   "source": [
    "#Chi2 Selector\n",
    "\n",
    "from sklearn.feature_selection import SelectKBest\n",
    "from sklearn.feature_selection import chi2\n",
    "\n",
    "chi2_model = SelectKBest(score_func=chi2, k=4)\n",
    "X_best_feat = chi2_model.fit_transform(X, Y)\n",
    "# selected features\n",
    "print('Number of features:', X.shape[1])\n",
    "print('Reduced number of features:',X_best_feat.shape[1])"
   ]
  },
  {
   "cell_type": "code",
   "execution_count": null,
   "metadata": {},
   "outputs": [],
   "source": [
    "# Feature Importance\n",
    "from sklearn.ensemble import RandomForestClassifier\n",
    "# fit a RandomForest model to the data\n",
    "model = RandomForestClassifier()\n",
    "model.fit(X, Y)\n",
    "# display the relative importance of each attribute\n",
    "print(sorted(zip(map(lambda x: round(x, 4), model.feature_importances_),X)))"
   ]
  },
  {
   "cell_type": "code",
   "execution_count": null,
   "metadata": {},
   "outputs": [],
   "source": []
  }
 ],
 "metadata": {
  "kernelspec": {
   "display_name": "Python 3",
   "language": "python",
   "name": "python3"
  },
  "language_info": {
   "codemirror_mode": {
    "name": "ipython",
    "version": 3
   },
   "file_extension": ".py",
   "mimetype": "text/x-python",
   "name": "python",
   "nbconvert_exporter": "python",
   "pygments_lexer": "ipython3",
   "version": "3.8.6"
  }
 },
 "nbformat": 4,
 "nbformat_minor": 2
}
