{
 "cells": [
  {
   "cell_type": "code",
   "execution_count": null,
   "metadata": {},
   "outputs": [],
   "source": [
    "%matplotlib inline\n",
    "import numpy as np\n",
    "import pandas as pd\n",
    "hr_data = pd.read_csv('data/hr.csv', header=0)\n",
    "print (hr_data.head())"
   ]
  },
  {
   "cell_type": "code",
   "execution_count": null,
   "metadata": {},
   "outputs": [],
   "source": [
    "hr_data[hr_data.dtypes[(hr_data.dtypes==\"float64\")|(hr_data.dtypes==\"int64\")].index.values].hist(figsize=[11,11])"
   ]
  },
  {
   "cell_type": "code",
   "execution_count": null,
   "metadata": {},
   "outputs": [],
   "source": [
    "from sklearn.preprocessing import StandardScaler\n",
    "scaler = StandardScaler()\n",
    "hr_data_scaler=scaler.fit_transform(hr_data[['satisfaction_level']])\n",
    "#hr_data_scaler = scaler.fit(hr_data_scaler)\n",
    "hr_data_scaler_df = pd.DataFrame(hr_data_scaler)\n",
    "hr_data_scaler_df.max()\n",
    "hr_data_scaler_df[hr_data_scaler_df.dtypes[(hr_data_scaler_df.dtypes==\"float64\")|(hr_data_scaler_df.dtypes==\"int64\")].index.values].hist(figsize=[11,11])"
   ]
  },
  {
   "cell_type": "code",
   "execution_count": null,
   "metadata": {},
   "outputs": [],
   "source": [
    "from sklearn.preprocessing import MinMaxScaler\n",
    "minmax=MinMaxScaler()\n",
    "hr_data_minmax=minmax.fit_transform(hr_data[[ 'average_montly_hours',\n",
    "                'last_evaluation', 'number_project', 'satisfaction_level']])\n",
    "hr_data_minmax_df = pd.DataFrame(hr_data_minmax)\n",
    "hr_data_minmax_df.min()\n",
    "hr_data_minmax_df.max()\n",
    "hr_data_minmax_df[hr_data_minmax_df.dtypes[(hr_data_minmax_df.dtypes==\"float64\")|(hr_data_minmax_df.dtypes==\"int64\")].index.values].hist(figsize=[11,11])\n"
   ]
  },
  {
   "cell_type": "code",
   "execution_count": null,
   "metadata": {},
   "outputs": [],
   "source": []
  }
 ],
 "metadata": {
  "kernelspec": {
   "display_name": "Python 3",
   "language": "python",
   "name": "python3"
  },
  "language_info": {
   "codemirror_mode": {
    "name": "ipython",
    "version": 3
   },
   "file_extension": ".py",
   "mimetype": "text/x-python",
   "name": "python",
   "nbconvert_exporter": "python",
   "pygments_lexer": "ipython3",
   "version": "3.8.6"
  }
 },
 "nbformat": 4,
 "nbformat_minor": 2
}
