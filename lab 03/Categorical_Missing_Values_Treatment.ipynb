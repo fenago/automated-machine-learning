{
 "cells": [
  {
   "cell_type": "code",
   "execution_count": null,
   "metadata": {},
   "outputs": [],
   "source": [
    "import numpy as np\n",
    "import pandas as pd\n",
    "hr_data = pd.read_csv('data/hr.csv', header=0)\n",
    "print('Nulls in the data set' ,hr_data.isnull().sum())"
   ]
  },
  {
   "cell_type": "code",
   "execution_count": null,
   "metadata": {},
   "outputs": [],
   "source": [
    "#As there are no null introduce some nulls by replacing sales in sales column with NaN\n",
    "\n",
    "hr_data[['sales']] = hr_data[[ 'sales']].replace('sales', np.NaN)\n",
    "#As there are no null introduce some nulls by replacing low in salary column with NaN\n",
    "hr_data[['salary']] = hr_data[[ 'salary']].replace('low', np.NaN)\n",
    "\n",
    "print('New nulls in the data set' ,hr_data.isnull().sum())"
   ]
  },
  {
   "cell_type": "code",
   "execution_count": null,
   "metadata": {},
   "outputs": [],
   "source": [
    "#Replace mode for missing values\n",
    "hr_data_1 = hr_data.copy()\n",
    "# fill missing values with mode column values\n",
    "for column in hr_data_1.columns:\n",
    "    hr_data_1[column].fillna(hr_data_1[column].mode()[0], inplace=True)\n",
    "# count the number of NaN values in each column\n",
    "print(hr_data_1.isnull().sum())\n",
    "print(hr_data_1.head())"
   ]
  },
  {
   "cell_type": "code",
   "execution_count": null,
   "metadata": {},
   "outputs": [],
   "source": [
    "#Mark global constant for missing values\n",
    "hr_data_2 = hr_data.copy()\n",
    "# fill missing values with global constant values\n",
    "hr_data_2.fillna('AAA', inplace=True)\n",
    "# count the number of NaN values in each column\n",
    "print(hr_data_2.isnull().sum())\n",
    "print(hr_data_2.head())"
   ]
  },
  {
   "cell_type": "code",
   "execution_count": null,
   "metadata": {},
   "outputs": [],
   "source": []
  }
 ],
 "metadata": {
  "kernelspec": {
   "display_name": "Python 3",
   "language": "python",
   "name": "python3"
  },
  "language_info": {
   "codemirror_mode": {
    "name": "ipython",
    "version": 3
   },
   "file_extension": ".py",
   "mimetype": "text/x-python",
   "name": "python",
   "nbconvert_exporter": "python",
   "pygments_lexer": "ipython3",
   "version": "3.8.6"
  }
 },
 "nbformat": 4,
 "nbformat_minor": 2
}
