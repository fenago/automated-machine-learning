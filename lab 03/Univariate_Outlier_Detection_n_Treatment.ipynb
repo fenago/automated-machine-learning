{
 "cells": [
  {
   "cell_type": "code",
   "execution_count": null,
   "metadata": {},
   "outputs": [],
   "source": [
    "%matplotlib inline\n",
    "import numpy as np\n",
    "import matplotlib.pyplot as plt\n"
   ]
  },
  {
   "cell_type": "code",
   "execution_count": null,
   "metadata": {},
   "outputs": [],
   "source": [
    "number_of_samples = 200\n",
    "outlier_perc = 0.1\n",
    "number_of_outliers = number_of_samples - int ( (1-outlier_perc) * number_of_samples )\n"
   ]
  },
  {
   "cell_type": "code",
   "execution_count": null,
   "metadata": {},
   "outputs": [],
   "source": [
    "# Normal Data\n",
    "normal_data = np.random.randn(int ( (1-outlier_perc) * number_of_samples ),1)\n",
    "# Inject Outlier data\n",
    "outliers = np.random.uniform(low=-9,high=9,size=(number_of_outliers,1))\n",
    "# Final data set\n",
    "final_data = np.r_[normal_data,outliers]\n",
    "\n",
    "#Check data\n",
    "plt.cla()\n",
    "plt.figure(1)\n",
    "plt.title(\"Dummy Data set\")\n",
    "plt.scatter(range(len(final_data)),final_data,c='b')"
   ]
  },
  {
   "cell_type": "code",
   "execution_count": null,
   "metadata": {},
   "outputs": [],
   "source": [
    "## Detect Outlier###\n",
    "plt.boxplot(final_data)"
   ]
  },
  {
   "cell_type": "code",
   "execution_count": null,
   "metadata": {},
   "outputs": [],
   "source": [
    "## IQR Method Outlier Detection and Removal(filter) ##\n",
    "quartile75, quartile25 = np.percentile(final_data, [75 ,25])\n",
    "## Inter Quartile Range ##\n",
    "IQR = quartile75 - quartile25\n",
    "print(\"IQR\",IQR)"
   ]
  },
  {
   "cell_type": "code",
   "execution_count": null,
   "metadata": {},
   "outputs": [],
   "source": [
    "## Calculate Min and Max values ##\n",
    "min_value = quartile25 - (IQR*1.5)\n",
    "max_value = quartile75 + (IQR*1.5)\n",
    "print(\"Max\", max_value)\n",
    "print(\"Min\", min_value)"
   ]
  },
  {
   "cell_type": "code",
   "execution_count": null,
   "metadata": {},
   "outputs": [],
   "source": [
    "filtered_values = final_data.copy()\n",
    "filtered_values[ filtered_values< min_value] = np.nan\n",
    "filtered_values[ filtered_values > max_value] = np.nan"
   ]
  },
  {
   "cell_type": "code",
   "execution_count": null,
   "metadata": {},
   "outputs": [],
   "source": [
    "#Check filtered data\n",
    "plt.cla()\n",
    "plt.figure(1)\n",
    "plt.title(\"IQR Filtered Dummy Data set\")\n",
    "plt.scatter(range(len(filtered_values)),filtered_values,c='b')"
   ]
  },
  {
   "cell_type": "code",
   "execution_count": null,
   "metadata": {},
   "outputs": [],
   "source": [
    "##### Winsorization ####\n",
    "\n",
    "from scipy.stats.mstats import winsorize"
   ]
  },
  {
   "cell_type": "code",
   "execution_count": null,
   "metadata": {},
   "outputs": [],
   "source": [
    "limit = 0.15\n",
    "winsorized_data = winsorize(final_data,limits=limit)"
   ]
  },
  {
   "cell_type": "code",
   "execution_count": null,
   "metadata": {},
   "outputs": [],
   "source": [
    "#Check winsorized data\n",
    "plt.cla()\n",
    "plt.figure(1)\n",
    "plt.title(\"Winsorized Dummy Data set\")\n",
    "plt.scatter(range(len(winsorized_data)),winsorized_data,c='b')"
   ]
  },
  {
   "cell_type": "code",
   "execution_count": null,
   "metadata": {},
   "outputs": [],
   "source": [
    "### Trimming Outliers ###\n",
    "from scipy import stats"
   ]
  },
  {
   "cell_type": "code",
   "execution_count": null,
   "metadata": {},
   "outputs": [],
   "source": [
    "trimmed_data = stats.trimboth(final_data, 0.1)"
   ]
  },
  {
   "cell_type": "code",
   "execution_count": null,
   "metadata": {},
   "outputs": [],
   "source": [
    "#Check trimmed data\n",
    "plt.cla()\n",
    "plt.figure(1)\n",
    "plt.title(\"Trimmed Dummy Data set\")\n",
    "plt.scatter(range(len(trimmed_data)),trimmed_data,c='b')"
   ]
  },
  {
   "cell_type": "code",
   "execution_count": null,
   "metadata": {},
   "outputs": [],
   "source": []
  }
 ],
 "metadata": {
  "kernelspec": {
   "display_name": "Python 3",
   "language": "python",
   "name": "python3"
  },
  "language_info": {
   "codemirror_mode": {
    "name": "ipython",
    "version": 3
   },
   "file_extension": ".py",
   "mimetype": "text/x-python",
   "name": "python",
   "nbconvert_exporter": "python",
   "pygments_lexer": "ipython3",
   "version": "3.8.6"
  }
 },
 "nbformat": 4,
 "nbformat_minor": 2
}
