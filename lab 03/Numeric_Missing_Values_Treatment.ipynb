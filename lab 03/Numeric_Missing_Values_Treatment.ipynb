{
 "cells": [
  {
   "cell_type": "code",
   "execution_count": null,
   "metadata": {},
   "outputs": [],
   "source": [
    "import numpy as np\n",
    "import pandas as pd\n",
    "hr_data = pd.read_csv('data/hr.csv', header=0)\n",
    "print (hr_data.head())\n",
    "print('Nulls in the data set' ,hr_data.isnull().sum())"
   ]
  },
  {
   "cell_type": "code",
   "execution_count": null,
   "metadata": {},
   "outputs": [],
   "source": [
    "#As there are no null introduce some nulls by replacing o in promotion_last_5years with NaN\n",
    "hr_data[['promotion_last_5years']] = hr_data[[ 'promotion_last_5years']].replace(0, np.NaN)\n",
    "#As there are no null introduce some nulls by replacing 262 in promotion_last_5years with NaN\n",
    "hr_data[['average_montly_hours']] = hr_data[[ 'average_montly_hours']].replace(262, np.NaN)\n",
    "#Replace 2 in number_project with NaN\n",
    "hr_data[['number_project']] = hr_data[[ 'number_project']].replace(2, np.NaN)\n",
    "\n",
    "print('Nulls in the data set', hr_data.isnull().sum())"
   ]
  },
  {
   "cell_type": "code",
   "execution_count": null,
   "metadata": {},
   "outputs": [],
   "source": [
    "#Remove rows\n",
    "hr_data_1 = hr_data.copy()\n",
    "print('Shape of the data set before removing nulls ', hr_data_1.shape)\n",
    "# drop rows with missing values\n",
    "hr_data_1.dropna(inplace=True)\n",
    "# summarize the number of rows and columns in the dataset\n",
    "print('Shape of the data set after removing nulls ',hr_data_1.shape)"
   ]
  },
  {
   "cell_type": "code",
   "execution_count": null,
   "metadata": {},
   "outputs": [],
   "source": []
  },
  {
   "cell_type": "code",
   "execution_count": null,
   "metadata": {},
   "outputs": [],
   "source": [
    "#Mark global constant for missing values\n",
    "hr_data_3 = hr_data.copy()\n",
    "# fill missing values with -999\n",
    "hr_data_3.fillna(-999, inplace=True)\n",
    "# count the number of NaN values in each column\n",
    "print(hr_data_3.isnull().sum())\n",
    "print(hr_data_3.head())"
   ]
  },
  {
   "cell_type": "code",
   "execution_count": null,
   "metadata": {},
   "outputs": [],
   "source": [
    "#Replace mean for missing values\n",
    "hr_data_2 = hr_data.copy()\n",
    "# fill missing values with mean column values\n",
    "hr_data_2.fillna(hr_data_2.mean(), inplace=True)\n",
    "# count the number of NaN values in each column\n",
    "print(hr_data_2.isnull().sum())\n",
    "print(hr_data_2.head())"
   ]
  },
  {
   "cell_type": "code",
   "execution_count": null,
   "metadata": {},
   "outputs": [],
   "source": [
    "# make copy to avoid changing original data (when Imputing)\n",
    "hr_data_4 = hr_data.copy()\n",
    "\n",
    "# make new columns indicating what is imputed\n",
    "cols_with_missing = (col for col in hr_data_4.columns \n",
    "                                 if hr_data_4[col].isnull().any())\n",
    "for col in cols_with_missing:\n",
    "    hr_data_4[col + '_was_missing'] = hr_data_4[col].isnull()\n",
    "    \n",
    "hr_data_4.head()"
   ]
  },
  {
   "cell_type": "code",
   "execution_count": null,
   "metadata": {},
   "outputs": [],
   "source": [
    "from fancyimpute import KNN\n",
    "\n",
    "hr_data_5 = hr_data.copy()\n",
    "hr_numeric = hr_data_5.select_dtypes(include=[np.float])\n",
    "hr_filled = pd.DataFrame(KNN(3).complete(hr_numeric))\n",
    "hr_filled.columns = hr_numeric.columns\n",
    "hr_filled.index = hr_numeric.index\n",
    "hr_filled.head()"
   ]
  },
  {
   "cell_type": "code",
   "execution_count": null,
   "metadata": {},
   "outputs": [],
   "source": []
  },
  {
   "cell_type": "code",
   "execution_count": null,
   "metadata": {},
   "outputs": [],
   "source": []
  }
 ],
 "metadata": {
  "kernelspec": {
   "display_name": "Python 3",
   "language": "python",
   "name": "python3"
  },
  "language_info": {
   "codemirror_mode": {
    "name": "ipython",
    "version": 3
   },
   "file_extension": ".py",
   "mimetype": "text/x-python",
   "name": "python",
   "nbconvert_exporter": "python",
   "pygments_lexer": "ipython3",
   "version": "3.8.6"
  }
 },
 "nbformat": 4,
 "nbformat_minor": 2
}
